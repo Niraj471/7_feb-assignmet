{
 "cells": [
  {
   "cell_type": "code",
   "execution_count": 32,
   "id": "9a2b12e0-6e51-4db0-bb4d-bab29c29573e",
   "metadata": {},
   "outputs": [],
   "source": [
    "##Q1.>\n",
    "\n",
    "import re\n",
    "\n",
    "def check_password(password):\n",
    "    \n",
    "    if len(password) != 10:\n",
    "        return \"invalid password4\"\n",
    "    \n",
    "    \n",
    "    if len(re.findall(r'[a-z]',password)) < 2 and len(re.findall(r'[A-Z]',password)) < 2:\n",
    "        return \"invalid password3\"\n",
    "    \n",
    "    \n",
    "    if len(re.findall(r'[0-9]',password)) < 1:\n",
    "        return \"invalid password2\"\n",
    "    \n",
    "    \n",
    "    if len(re.findall(r'[!@#$%^&*()-_+=]',password)) < 3:\n",
    "        return\"invalid password1\"\n",
    "    \n",
    "    \n",
    "    else:\n",
    "        return \"valid password\""
   ]
  },
  {
   "cell_type": "code",
   "execution_count": 33,
   "id": "4c744cb9-3ee8-4972-9a84-9c430e6ee588",
   "metadata": {},
   "outputs": [
    {
     "data": {
      "text/plain": [
       "'valid password'"
      ]
     },
     "execution_count": 33,
     "metadata": {},
     "output_type": "execute_result"
    }
   ],
   "source": [
    "check_password(password = \"fgY^A&231s\")"
   ]
  },
  {
   "cell_type": "code",
   "execution_count": 11,
   "id": "36a844ca-eb03-4f6d-8714-9ec50b5acb44",
   "metadata": {},
   "outputs": [],
   "source": [
    "##Q2.>\n",
    "\n",
    "## check if a string starts with a particular letter\n",
    "\n",
    "##lamda_fuction\n",
    "check_letter = lambda s : print(\"correct\") if s[0] == \"t\" else print(\"incorrect\")  "
   ]
  },
  {
   "cell_type": "code",
   "execution_count": 7,
   "id": "47ae72fe-e702-4c08-9ea5-592fee05fb79",
   "metadata": {},
   "outputs": [],
   "source": [
    "s = \"tall\""
   ]
  },
  {
   "cell_type": "code",
   "execution_count": 8,
   "id": "b81845b8-71b9-40f2-b5ff-ef5448325c0b",
   "metadata": {},
   "outputs": [
    {
     "name": "stdout",
     "output_type": "stream",
     "text": [
      "correct\n"
     ]
    }
   ],
   "source": [
    "check_letter(s)"
   ]
  },
  {
   "cell_type": "code",
   "execution_count": 9,
   "id": "0c80ee43-df09-4d08-84c3-62aed827656e",
   "metadata": {},
   "outputs": [],
   "source": [
    "##check if string is numeric\n",
    "\n",
    "import re\n",
    "\n",
    "def check_number(string):\n",
    "    \n",
    "    if re.findall(r'[0-9]',string):\n",
    "        return \"string have numeric value\"\n",
    "    \n",
    "    else:\n",
    "        return \"string is non-numeric\""
   ]
  },
  {
   "cell_type": "code",
   "execution_count": 10,
   "id": "9267a53c-d80e-497e-8f30-880b12f1e6db",
   "metadata": {},
   "outputs": [
    {
     "data": {
      "text/plain": [
       "'string have numeric value'"
      ]
     },
     "execution_count": 10,
     "metadata": {},
     "output_type": "execute_result"
    }
   ],
   "source": [
    "check_number(\"56TYds\")"
   ]
  },
  {
   "cell_type": "code",
   "execution_count": 23,
   "id": "6b30356f-d14f-4f5d-95f6-2042c5f17a2d",
   "metadata": {},
   "outputs": [
    {
     "data": {
      "text/plain": [
       "[1, 4, 9, 16, 25, 36, 49, 64, 81, 100]"
      ]
     },
     "execution_count": 23,
     "metadata": {},
     "output_type": "execute_result"
    }
   ],
   "source": [
    "##find the square of number 1 to 10\n",
    "\n",
    "l = [1,2,3,4,5,6,7,8,9,10 ]\n",
    "\n",
    "list(map(lambda x : x**2 ,l))"
   ]
  },
  {
   "cell_type": "code",
   "execution_count": 36,
   "id": "d7bb95ff-3c1c-46fc-bb37-c04b94fe684a",
   "metadata": {},
   "outputs": [],
   "source": [
    "##filter odd number\n",
    "\n",
    "def filter_number(lst):\n",
    "    list1 = []\n",
    "    for i in lst:\n",
    "        if  i % 2 != 0:\n",
    "            list1.append(i) \n",
    "            \n",
    "    return list1        "
   ]
  },
  {
   "cell_type": "code",
   "execution_count": 37,
   "id": "f8b2b25d-4a70-4faa-8497-1c3ee848cc5d",
   "metadata": {},
   "outputs": [
    {
     "data": {
      "text/plain": [
       "[1, 3, 5, 7, 9]"
      ]
     },
     "execution_count": 37,
     "metadata": {},
     "output_type": "execute_result"
    }
   ],
   "source": [
    "filter_number(lst = [1,2,3,4,5,6,7,8,9,10])"
   ]
  },
  {
   "cell_type": "code",
   "execution_count": 48,
   "id": "bab1d808-a73b-4407-8e00-30f6283f17d0",
   "metadata": {},
   "outputs": [],
   "source": [
    "##sort the positive and negative number\n",
    "\n",
    "def sort_number(lst):\n",
    "    list1 = []\n",
    "    list2 = []\n",
    "    for i in lst:\n",
    "        if  i >= 0:\n",
    "            list1.append(i) \n",
    "            \n",
    "        else:\n",
    "            \n",
    "            list2.append(i)\n",
    "\n",
    "    return list1,list2"
   ]
  },
  {
   "cell_type": "code",
   "execution_count": 47,
   "id": "b280ea16-27d4-4519-9a83-03f3b4f632db",
   "metadata": {},
   "outputs": [
    {
     "data": {
      "text/plain": [
       "('possitive =list1', 'negative == list2')"
      ]
     },
     "execution_count": 47,
     "metadata": {},
     "output_type": "execute_result"
    }
   ],
   "source": [
    "sort_number(lst = [1,2,3,4,5,6,-1,-2,-3,-4,-5,0])"
   ]
  },
  {
   "cell_type": "code",
   "execution_count": null,
   "id": "340a366a-ca49-44a5-ab23-fc399c80eeb9",
   "metadata": {},
   "outputs": [],
   "source": []
  }
 ],
 "metadata": {
  "kernelspec": {
   "display_name": "Python 3 (ipykernel)",
   "language": "python",
   "name": "python3"
  },
  "language_info": {
   "codemirror_mode": {
    "name": "ipython",
    "version": 3
   },
   "file_extension": ".py",
   "mimetype": "text/x-python",
   "name": "python",
   "nbconvert_exporter": "python",
   "pygments_lexer": "ipython3",
   "version": "3.10.8"
  }
 },
 "nbformat": 4,
 "nbformat_minor": 5
}
